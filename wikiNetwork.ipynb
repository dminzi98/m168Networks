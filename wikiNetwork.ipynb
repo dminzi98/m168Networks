{
 "cells": [
  {
   "cell_type": "code",
   "execution_count": null,
   "metadata": {},
   "outputs": [],
   "source": [
    "%include \"EnableIPythonDisplay.swift\"\n",
    "IPythonDisplay.shell.enable_matplotlib(\"inline\")\n",
    "import Python\n",
    "import Foundation\n",
    "let nx = Python.import(\"networkx\")"
   ]
  },
  {
   "cell_type": "code",
   "execution_count": null,
   "metadata": {},
   "outputs": [],
   "source": [
    "let namePath = \"./wiki-topcats-page-names.txt\"\n",
    "var nameData = try NSString(contentsOfFile: namePath,\n",
    "        encoding: String.Encoding.ascii.rawValue)\n",
    "\n",
    "var nameArray: PythonObject = []\n",
    "\n",
    "nameData.enumerateLines({ (line, stop) -> () in\n",
    "        nameArray.append(line)\n",
    "})"
   ]
  },
  {
   "cell_type": "code",
   "execution_count": null,
   "metadata": {},
   "outputs": [],
   "source": [
    "var labels: PythonObject = []\n",
    "for i in 0..<nameArray.count {\n",
    "    labels.append(Python.tuple([nameArray[i][0..<1], nameArray[i][2...]]))\n",
    "}"
   ]
  },
  {
   "cell_type": "code",
   "execution_count": null,
   "metadata": {},
   "outputs": [],
   "source": [
    "let namePath = \"./wiki-topcats.txt\"\n",
    "var nameData = try NSString(contentsOfFile: namePath,\n",
    "        encoding: String.Encoding.ascii.rawValue)\n",
    "\n",
    "var edgeArray: PythonObject = []\n",
    "\n",
    "nameData.enumerateLines({ (line, stop) -> () in\n",
    "        edgeArray.append(line)\n",
    "})"
   ]
  },
  {
   "cell_type": "code",
   "execution_count": null,
   "metadata": {},
   "outputs": [],
   "source": [
    "var edges: PythonObject = []\n",
    "for i in 0..<nameArray.count {\n",
    "    edges.append(Python.tuple([nameArray[i][0..<1], nameArray[i][2...]]))\n",
    "}"
   ]
  },
  {
   "cell_type": "code",
   "execution_count": null,
   "metadata": {},
   "outputs": [],
   "source": []
  }
 ],
 "metadata": {
  "kernelspec": {
   "display_name": "Swift",
   "language": "swift",
   "name": "swift"
  },
  "language_info": {
   "file_extension": ".swift",
   "mimetype": "text/x-swift",
   "name": "swift",
   "version": ""
  }
 },
 "nbformat": 4,
 "nbformat_minor": 4
}
