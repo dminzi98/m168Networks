{
 "cells": [
  {
   "cell_type": "code",
   "execution_count": 1,
   "metadata": {
    "pycharm": {
     "is_executing": false
    }
   },
   "outputs": [],
   "source": [
    "import matplotlib as plt\n",
    "import networkx as nx\n",
    "import numpy as np"
   ]
  },
  {
   "cell_type": "code",
   "execution_count": 2,
   "metadata": {
    "pycharm": {
     "is_executing": false,
     "name": "#%%\n"
    }
   },
   "outputs": [],
   "source": [
    "A = np.array([\n",
    "    [0, 1, 0, 0, 0, 0, 1, 1, 0, 0],\n",
    "    [1, 0, 1, 0, 0, 0, 1, 0, 0, 0],\n",
    "    [0, 1, 0, 1, 0, 0, 0, 1, 0, 0],\n",
    "    [0, 0, 1, 0, 1, 0, 0, 0, 1, 0],\n",
    "    [0, 0, 0, 1, 0, 1, 0, 0, 0, 1],\n",
    "    [0, 0, 0, 0, 1, 0, 0, 0, 1, 1],\n",
    "    [1, 1, 0, 0, 0, 0, 0, 1, 0, 0],\n",
    "    [1, 0, 1, 0, 0, 0, 1, 0, 0, 0],\n",
    "    [0, 0, 0, 1, 0, 1, 0, 0, 0, 1],\n",
    "    [0, 0, 0, 0, 1, 1, 0, 0, 1, 0],\n",
    "])"
   ]
  },
  {
   "cell_type": "code",
   "execution_count": 3,
   "metadata": {
    "pycharm": {
     "is_executing": false,
     "name": "#%%\n"
    }
   },
   "outputs": [
    {
     "data": {
      "image/png": "[encoded data removed]",
      "text/plain": [
       "<Figure size 432x288 with 1 Axes>"
      ]
     },
     "metadata": {},
     "output_type": "display_data"
    }
   ],
   "source": [
    "G = nx.from_numpy_matrix(A)\n",
    "nx.draw(G, with_labels=True)"
   ]
  },
  {
   "cell_type": "code",
   "execution_count": 4,
   "metadata": {
    "pycharm": {
     "is_executing": false,
     "name": "#%%\n"
    }
   },
   "outputs": [
    {
     "name": "stdout",
     "output_type": "stream",
     "text": [
      "[[3 1 2 0 0 0 2 1 0 0]\n",
      " [1 3 0 1 0 0 1 3 0 0]\n",
      " [2 0 3 0 1 0 2 0 1 0]\n",
      " [0 1 0 3 0 2 0 1 0 2]\n",
      " [0 0 1 0 3 1 0 0 3 1]\n",
      " [0 0 0 2 1 3 0 0 1 2]\n",
      " [2 1 2 0 0 0 3 1 0 0]\n",
      " [1 3 0 1 0 0 1 3 0 0]\n",
      " [0 0 1 0 3 1 0 0 3 1]\n",
      " [0 0 0 2 1 2 0 0 1 3]]\n"
     ]
    }
   ],
   "source": [
    "Asq = np.matmul(A, A)\n",
    "print(Asq)"
   ]
  },
  {
   "cell_type": "code",
   "execution_count": 10,
   "metadata": {
    "pycharm": {
     "is_executing": false,
     "name": "#%%\n"
    }
   },
   "outputs": [],
   "source": [
    "cSim = np.zeros((10, 10))"
   ]
  },
  {
   "cell_type": "code",
   "execution_count": 6,
   "metadata": {
    "pycharm": {
     "is_executing": false,
     "name": "#%%\n"
    }
   },
   "outputs": [
    {
     "name": "stdout",
     "output_type": "stream",
     "text": [
      "Cosine Similarity\n",
      "1.00 & 0.33 & 0.67 & 0.00 & 0.00 & 0.00 & 0.67 & 0.33 & 0.00 & 0.00 & \\\\\n",
      "0.33 & 1.00 & 0.00 & 0.33 & 0.00 & 0.00 & 0.33 & 1.00 & 0.00 & 0.00 & \\\\\n",
      "0.67 & 0.00 & 1.00 & 0.00 & 0.33 & 0.00 & 0.67 & 0.00 & 0.33 & 0.00 & \\\\\n",
      "0.00 & 0.33 & 0.00 & 1.00 & 0.00 & 0.67 & 0.00 & 0.33 & 0.00 & 0.67 & \\\\\n",
      "0.00 & 0.00 & 0.33 & 0.00 & 1.00 & 0.33 & 0.00 & 0.00 & 1.00 & 0.33 & \\\\\n",
      "0.00 & 0.00 & 0.00 & 0.67 & 0.33 & 1.00 & 0.00 & 0.00 & 0.33 & 0.67 & \\\\\n",
      "0.67 & 0.33 & 0.67 & 0.00 & 0.00 & 0.00 & 1.00 & 0.33 & 0.00 & 0.00 & \\\\\n",
      "0.33 & 1.00 & 0.00 & 0.33 & 0.00 & 0.00 & 0.33 & 1.00 & 0.00 & 0.00 & \\\\\n",
      "0.00 & 0.00 & 0.33 & 0.00 & 1.00 & 0.33 & 0.00 & 0.00 & 1.00 & 0.33 & \\\\\n",
      "0.00 & 0.00 & 0.00 & 0.67 & 0.33 & 0.67 & 0.00 & 0.00 & 0.33 & 1.00 & \\\\\n"
     ]
    }
   ],
   "source": [
    "ROWS = range(10)\n",
    "COLS = range(10)\n",
    "print(\"Cosine Similarity\")\n",
    "for row in ROWS:\n",
    "    for col in COLS:\n",
    "        Ki = np.sum(A[row, :])\n",
    "        Kj = np.sum(A[col, :])\n",
    "        cSim[row, col] = Asq[row, col]/np.sqrt(Ki * Kj)\n",
    "\n",
    "np.set_printoptions(precision=2)\n",
    "for row in ROWS:\n",
    "    for col in COLS:\n",
    "        print(\"%1.2f\" % (cSim[row, col]), end =\" & \")\n",
    "    print(\"\\\\\\\\\")"
   ]
  },
  {
   "cell_type": "code",
   "execution_count": 7,
   "metadata": {
    "pycharm": {
     "name": "#%%\n"
    }
   },
   "outputs": [
    {
     "name": "stdout",
     "output_type": "stream",
     "text": [
      "Jaccard Similarity\n",
      "1.00 & 0.20 & 0.50 & 0.00 & 0.00 & 0.00 & 0.50 & 0.20 & 0.00 & 0.00 & \\\\\n",
      "0.20 & 1.00 & 0.00 & 0.20 & 0.00 & 0.00 & 0.20 & 1.00 & 0.00 & 0.00 & \\\\\n",
      "0.50 & 0.00 & 1.00 & 0.00 & 0.20 & 0.00 & 0.50 & 0.00 & 0.20 & 0.00 & \\\\\n",
      "0.00 & 0.20 & 0.00 & 1.00 & 0.00 & 0.50 & 0.00 & 0.20 & 0.00 & 0.50 & \\\\\n",
      "0.00 & 0.00 & 0.20 & 0.00 & 1.00 & 0.20 & 0.00 & 0.00 & 1.00 & 0.20 & \\\\\n",
      "0.00 & 0.00 & 0.00 & 0.50 & 0.20 & 1.00 & 0.00 & 0.00 & 0.20 & 0.50 & \\\\\n",
      "0.50 & 0.20 & 0.50 & 0.00 & 0.00 & 0.00 & 1.00 & 0.20 & 0.00 & 0.00 & \\\\\n",
      "0.20 & 1.00 & 0.00 & 0.20 & 0.00 & 0.00 & 0.20 & 1.00 & 0.00 & 0.00 & \\\\\n",
      "0.00 & 0.00 & 0.20 & 0.00 & 1.00 & 0.20 & 0.00 & 0.00 & 1.00 & 0.20 & \\\\\n",
      "0.00 & 0.00 & 0.00 & 0.50 & 0.20 & 0.50 & 0.00 & 0.00 & 0.20 & 1.00 & \\\\\n"
     ]
    }
   ],
   "source": [
    "jSim = np.zeros((10, 10))\n",
    "print(\"Jaccard Similarity\")\n",
    "for row in ROWS:\n",
    "    for col in COLS:\n",
    "        Ki = np.sum(A[row, :])\n",
    "        Kj = np.sum(A[col, :])\n",
    "        jSim[row, col] = Asq[row, col]/(Ki + Kj - Asq[row, col])\n",
    "\n",
    "np.set_printoptions(precision=2)\n",
    "for row in ROWS:\n",
    "    for col in COLS:\n",
    "        print(\"%1.2f\" % (jSim[row, col]), end =\" & \")\n",
    "    print(\"\\\\\\\\\")"
   ]
  },
  {
   "cell_type": "code",
   "execution_count": 8,
   "metadata": {},
   "outputs": [
    {
     "name": "stdout",
     "output_type": "stream",
     "text": [
      "0.341 & 0.032 & 0.005 & 0.000 & 0.000 & 0.000 & 0.034 & 0.032 & 0.000 & 0.000 & \\\\\n",
      "0.032 & 0.341 & 0.029 & 0.002 & 0.000 & 0.000 & 0.032 & 0.008 & 0.000 & 0.000 & \\\\\n",
      "0.005 & 0.029 & 0.341 & 0.029 & 0.002 & 0.000 & 0.005 & 0.029 & 0.002 & 0.000 & \\\\\n",
      "0.000 & 0.002 & 0.029 & 0.341 & 0.029 & 0.005 & 0.000 & 0.002 & 0.029 & 0.005 & \\\\\n",
      "0.000 & 0.000 & 0.002 & 0.029 & 0.341 & 0.032 & 0.000 & 0.000 & 0.008 & 0.032 & \\\\\n",
      "0.000 & 0.000 & 0.000 & 0.005 & 0.032 & 0.341 & 0.000 & 0.000 & 0.032 & 0.034 & \\\\\n",
      "0.034 & 0.032 & 0.005 & 0.000 & 0.000 & 0.000 & 0.341 & 0.032 & 0.000 & 0.000 & \\\\\n",
      "0.032 & 0.008 & 0.029 & 0.002 & 0.000 & 0.000 & 0.032 & 0.341 & 0.000 & 0.000 & \\\\\n",
      "0.000 & 0.000 & 0.002 & 0.029 & 0.008 & 0.032 & 0.000 & 0.000 & 0.341 & 0.032 & \\\\\n",
      "0.000 & 0.000 & 0.000 & 0.005 & 0.032 & 0.034 & 0.000 & 0.000 & 0.032 & 0.341 & \\\\\n"
     ]
    }
   ],
   "source": [
    "D = np.zeros((10, 10))\n",
    "for row in ROWS:\n",
    "    for col in COLS:\n",
    "        if (col != row):\n",
    "            continue\n",
    "        else:\n",
    "            Ki = np.sum(A[row, :])\n",
    "            D[row, col] = Ki\n",
    "            \n",
    "kSim = np.linalg.inv(D - 0.25*A)\n",
    "\n",
    "for row in ROWS:\n",
    "    for col in COLS:\n",
    "        print(\"%1.3f\" % (kSim[row, col]), end =\" & \")\n",
    "    print(\"\\\\\\\\\")"
   ]
  }
 ],
 "metadata": {
  "kernelspec": {
   "display_name": "Python 3",
   "language": "python",
   "name": "python3"
  },
  "language_info": {
   "codemirror_mode": {
    "name": "ipython",
    "version": 3
   },
   "file_extension": ".py",
   "mimetype": "text/x-python",
   "name": "python",
   "nbconvert_exporter": "python",
   "pygments_lexer": "ipython3",
   "version": "3.6.9"
  },
  "pycharm": {
   "stem_cell": {
    "cell_type": "raw",
    "metadata": {
     "collapsed": false
    },
    "source": []
   }
  }
 },
 "nbformat": 4,
 "nbformat_minor": 1
}
